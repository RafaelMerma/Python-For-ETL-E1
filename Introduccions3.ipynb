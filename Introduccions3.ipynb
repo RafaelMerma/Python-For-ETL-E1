{
 "cells": [
  {
   "cell_type": "code",
   "execution_count": 2,
   "metadata": {},
   "outputs": [],
   "source": [
    "#Analizando un DataFrame (csv)\n",
    "import polars as pl\n",
    "##Leyendo el csv\n",
    "df01=pl.read_csv(\n",
    "    source='D:/CURSOS/ADDC_Python_For_ETL/Sesion01/CLASE02/ReporteVentas.csv',separator=';'\n",
    ")"
   ]
  },
  {
   "cell_type": "code",
   "execution_count": 4,
   "metadata": {},
   "outputs": [
    {
     "data": {
      "text/html": [
       "<div><style>\n",
       ".dataframe > thead > tr,\n",
       ".dataframe > tbody > tr {\n",
       "  text-align: right;\n",
       "  white-space: pre-wrap;\n",
       "}\n",
       "</style>\n",
       "<small>shape: (5, 10)</small><table border=\"1\" class=\"dataframe\"><thead><tr><th>Factura</th><th>ClienteID</th><th>Cliente</th><th>Tienda</th><th>Pais</th><th>Fecha Pedido</th><th>Fecha Entrega</th><th>Producto</th><th>Unidades</th><th>Precio</th></tr><tr><td>i64</td><td>i64</td><td>str</td><td>str</td><td>str</td><td>str</td><td>str</td><td>str</td><td>i64</td><td>f64</td></tr></thead><tbody><tr><td>55275</td><td>30000</td><td>&quot;James McCoy&quot;</td><td>&quot;ModCloth&quot;</td><td>&quot;Canada&quot;</td><td>&quot;2024-01-30&quot;</td><td>&quot;2024-02-06&quot;</td><td>&quot;ML Mountain Fr…</td><td>12</td><td>211.1722</td></tr><tr><td>59064</td><td>30050</td><td>&quot;Krishna Sunkam…</td><td>&quot;GameStop&quot;</td><td>&quot;United Kingdom…</td><td>&quot;2024-03-30&quot;</td><td>&quot;2024-04-07&quot;</td><td>&quot;ML Mountain Fr…</td><td>13</td><td>211.1722</td></tr><tr><td>65321</td><td>29487</td><td>&quot;Humberto Aceve…</td><td>&quot;Amazon&quot;</td><td>&quot;United States&quot;</td><td>&quot;2024-06-29&quot;</td><td>&quot;2024-07-05&quot;</td><td>&quot;ML Mountain Fr…</td><td>1</td><td>218.454</td></tr><tr><td>57066</td><td>29586</td><td>&quot;David Brink&quot;</td><td>&quot;Alibaba&quot;</td><td>&quot;Germany&quot;</td><td>&quot;2024-02-28&quot;</td><td>&quot;2024-03-09&quot;</td><td>&quot;Women&#x27;s Tights…</td><td>4</td><td>48.7435</td></tr><tr><td>71691</td><td>29676</td><td>&quot;Peter Connelly…</td><td>&quot;Alibaba&quot;</td><td>&quot;Germany&quot;</td><td>&quot;2024-09-30&quot;</td><td>&quot;2024-10-06&quot;</td><td>&quot;Women&#x27;s Tights…</td><td>2</td><td>48.7435</td></tr></tbody></table></div>"
      ],
      "text/plain": [
       "shape: (5, 10)\n",
       "┌─────────┬───────────┬─────────────┬──────────┬───┬────────────┬────────────┬──────────┬──────────┐\n",
       "│ Factura ┆ ClienteID ┆ Cliente     ┆ Tienda   ┆ … ┆ Fecha      ┆ Producto   ┆ Unidades ┆ Precio   │\n",
       "│ ---     ┆ ---       ┆ ---         ┆ ---      ┆   ┆ Entrega    ┆ ---        ┆ ---      ┆ ---      │\n",
       "│ i64     ┆ i64       ┆ str         ┆ str      ┆   ┆ ---        ┆ str        ┆ i64      ┆ f64      │\n",
       "│         ┆           ┆             ┆          ┆   ┆ str        ┆            ┆          ┆          │\n",
       "╞═════════╪═══════════╪═════════════╪══════════╪═══╪════════════╪════════════╪══════════╪══════════╡\n",
       "│ 55275   ┆ 30000     ┆ James McCoy ┆ ModCloth ┆ … ┆ 2024-02-06 ┆ ML         ┆ 12       ┆ 211.1722 │\n",
       "│         ┆           ┆             ┆          ┆   ┆            ┆ Mountain   ┆          ┆          │\n",
       "│         ┆           ┆             ┆          ┆   ┆            ┆ Frame-W -  ┆          ┆          │\n",
       "│         ┆           ┆             ┆          ┆   ┆            ┆ Silver, 40 ┆          ┆          │\n",
       "│ 59064   ┆ 30050     ┆ Krishna Sun ┆ GameStop ┆ … ┆ 2024-04-07 ┆ ML         ┆ 13       ┆ 211.1722 │\n",
       "│         ┆           ┆ kammurali   ┆          ┆   ┆            ┆ Mountain   ┆          ┆          │\n",
       "│         ┆           ┆             ┆          ┆   ┆            ┆ Frame-W -  ┆          ┆          │\n",
       "│         ┆           ┆             ┆          ┆   ┆            ┆ Silver, 40 ┆          ┆          │\n",
       "│ 65321   ┆ 29487     ┆ Humberto    ┆ Amazon   ┆ … ┆ 2024-07-05 ┆ ML         ┆ 1        ┆ 218.454  │\n",
       "│         ┆           ┆ Acevedo     ┆          ┆   ┆            ┆ Mountain   ┆          ┆          │\n",
       "│         ┆           ┆             ┆          ┆   ┆            ┆ Frame-W -  ┆          ┆          │\n",
       "│         ┆           ┆             ┆          ┆   ┆            ┆ Silver, 42 ┆          ┆          │\n",
       "│ 57066   ┆ 29586     ┆ David Brink ┆ Alibaba  ┆ … ┆ 2024-03-09 ┆ Women's    ┆ 4        ┆ 48.7435  │\n",
       "│         ┆           ┆             ┆          ┆   ┆            ┆ Tights, S  ┆          ┆          │\n",
       "│ 71691   ┆ 29676     ┆ Peter       ┆ Alibaba  ┆ … ┆ 2024-10-06 ┆ Women's    ┆ 2        ┆ 48.7435  │\n",
       "│         ┆           ┆ Connelly    ┆          ┆   ┆            ┆ Tights, S  ┆          ┆          │\n",
       "└─────────┴───────────┴─────────────┴──────────┴───┴────────────┴────────────┴──────────┴──────────┘"
      ]
     },
     "execution_count": 4,
     "metadata": {},
     "output_type": "execute_result"
    }
   ],
   "source": [
    "df01.head()"
   ]
  },
  {
   "cell_type": "code",
   "execution_count": 10,
   "metadata": {},
   "outputs": [
    {
     "data": {
      "text/html": [
       "<div><style>\n",
       ".dataframe > thead > tr,\n",
       ".dataframe > tbody > tr {\n",
       "  text-align: right;\n",
       "  white-space: pre-wrap;\n",
       "}\n",
       "</style>\n",
       "<small>shape: (5, 6)</small><table border=\"1\" class=\"dataframe\"><thead><tr><th>Factura</th><th>Pais</th><th>Tienda</th><th>Precio</th><th>Pais2</th><th>Precio2</th></tr><tr><td>i64</td><td>str</td><td>str</td><td>f64</td><td>str</td><td>f64</td></tr></thead><tbody><tr><td>55275</td><td>&quot;Canada&quot;</td><td>&quot;ModCloth&quot;</td><td>211.1722</td><td>&quot;Can&quot;</td><td>211.17</td></tr><tr><td>59064</td><td>&quot;United Kingdom…</td><td>&quot;GameStop&quot;</td><td>211.1722</td><td>&quot;Uni&quot;</td><td>211.17</td></tr><tr><td>65321</td><td>&quot;United States&quot;</td><td>&quot;Amazon&quot;</td><td>218.454</td><td>&quot;Uni&quot;</td><td>218.45</td></tr><tr><td>57066</td><td>&quot;Germany&quot;</td><td>&quot;Alibaba&quot;</td><td>48.7435</td><td>&quot;Ger&quot;</td><td>48.74</td></tr><tr><td>71691</td><td>&quot;Germany&quot;</td><td>&quot;Alibaba&quot;</td><td>48.7435</td><td>&quot;Ger&quot;</td><td>48.74</td></tr></tbody></table></div>"
      ],
      "text/plain": [
       "shape: (5, 6)\n",
       "┌─────────┬────────────────┬──────────┬──────────┬───────┬─────────┐\n",
       "│ Factura ┆ Pais           ┆ Tienda   ┆ Precio   ┆ Pais2 ┆ Precio2 │\n",
       "│ ---     ┆ ---            ┆ ---      ┆ ---      ┆ ---   ┆ ---     │\n",
       "│ i64     ┆ str            ┆ str      ┆ f64      ┆ str   ┆ f64     │\n",
       "╞═════════╪════════════════╪══════════╪══════════╪═══════╪═════════╡\n",
       "│ 55275   ┆ Canada         ┆ ModCloth ┆ 211.1722 ┆ Can   ┆ 211.17  │\n",
       "│ 59064   ┆ United Kingdom ┆ GameStop ┆ 211.1722 ┆ Uni   ┆ 211.17  │\n",
       "│ 65321   ┆ United States  ┆ Amazon   ┆ 218.454  ┆ Uni   ┆ 218.45  │\n",
       "│ 57066   ┆ Germany        ┆ Alibaba  ┆ 48.7435  ┆ Ger   ┆ 48.74   │\n",
       "│ 71691   ┆ Germany        ┆ Alibaba  ┆ 48.7435  ┆ Ger   ┆ 48.74   │\n",
       "└─────────┴────────────────┴──────────┴──────────┴───────┴─────────┘"
      ]
     },
     "execution_count": 10,
     "metadata": {},
     "output_type": "execute_result"
    }
   ],
   "source": [
    "df01.select(\n",
    "    \"Factura\",\"Pais\",\"Tienda\",\"Precio\",\n",
    "    pl.col(\"Pais\").str.slice(offset=0,length=3).alias(\"Pais2\"),\n",
    "    pl.col(\"Precio\").cast(pl.Float64).round(2).alias(\"Precio2\")\n",
    ").head()"
   ]
  },
  {
   "cell_type": "code",
   "execution_count": 15,
   "metadata": {},
   "outputs": [
    {
     "name": "stderr",
     "output_type": "stream",
     "text": [
      "C:\\Users\\Usuario\\AppData\\Local\\Temp\\ipykernel_8492\\2762609979.py:3: DeprecationWarning: named `by` param is deprecated; use positional `*args` instead.\n",
      "  df01.group_by(\n"
     ]
    },
    {
     "data": {
      "text/html": [
       "<div><style>\n",
       ".dataframe > thead > tr,\n",
       ".dataframe > tbody > tr {\n",
       "  text-align: right;\n",
       "  white-space: pre-wrap;\n",
       "}\n",
       "</style>\n",
       "<small>shape: (6, 2)</small><table border=\"1\" class=\"dataframe\"><thead><tr><th>Fecha Pedido</th><th>Factura</th></tr><tr><td>str</td><td>u32</td></tr></thead><tbody><tr><td>&quot;2024-02-28&quot;</td><td>3273</td></tr><tr><td>&quot;2024-03-30&quot;</td><td>3202</td></tr><tr><td>&quot;2024-10-01&quot;</td><td>3126</td></tr><tr><td>&quot;2024-08-31&quot;</td><td>3065</td></tr><tr><td>&quot;2024-06-29&quot;</td><td>2347</td></tr><tr><td>&quot;2024-05-31&quot;</td><td>2267</td></tr></tbody></table></div>"
      ],
      "text/plain": [
       "shape: (6, 2)\n",
       "┌──────────────┬─────────┐\n",
       "│ Fecha Pedido ┆ Factura │\n",
       "│ ---          ┆ ---     │\n",
       "│ str          ┆ u32     │\n",
       "╞══════════════╪═════════╡\n",
       "│ 2024-02-28   ┆ 3273    │\n",
       "│ 2024-03-30   ┆ 3202    │\n",
       "│ 2024-10-01   ┆ 3126    │\n",
       "│ 2024-08-31   ┆ 3065    │\n",
       "│ 2024-06-29   ┆ 2347    │\n",
       "│ 2024-05-31   ┆ 2267    │\n",
       "└──────────────┴─────────┘"
      ]
     },
     "execution_count": 15,
     "metadata": {},
     "output_type": "execute_result"
    }
   ],
   "source": [
    "#Agrupando datos\n",
    "\"\"\"Se desea saber cuantas factura hubo por cada fecha de pedido\"\"\"\n",
    "df01.group_by(\n",
    "    by=\"Fecha Pedido\"\n",
    ").agg(\n",
    "    pl.col(\"Factura\").count()\n",
    ").sort(\n",
    "    by=\"Factura\", descending=True\n",
    ").head(\n",
    "    6\n",
    ")"
   ]
  },
  {
   "cell_type": "code",
   "execution_count": 18,
   "metadata": {},
   "outputs": [
    {
     "name": "stderr",
     "output_type": "stream",
     "text": [
      "C:\\Users\\Usuario\\AppData\\Local\\Temp\\ipykernel_8492\\2213734399.py:2: DeprecationWarning: named `by` param is deprecated; use positional `*args` instead.\n",
      "  df01.group_by(\n"
     ]
    },
    {
     "data": {
      "text/html": [
       "<div><style>\n",
       ".dataframe > thead > tr,\n",
       ".dataframe > tbody > tr {\n",
       "  text-align: right;\n",
       "  white-space: pre-wrap;\n",
       "}\n",
       "</style>\n",
       "<small>shape: (6, 2)</small><table border=\"1\" class=\"dataframe\"><thead><tr><th>Pais</th><th>Precio</th></tr><tr><td>str</td><td>f64</td></tr></thead><tbody><tr><td>&quot;Australia&quot;</td><td>392.638377</td></tr><tr><td>&quot;Canada&quot;</td><td>234.092973</td></tr><tr><td>&quot;France&quot;</td><td>333.834728</td></tr><tr><td>&quot;Germany&quot;</td><td>353.917047</td></tr><tr><td>&quot;United Kingdom…</td><td>347.573597</td></tr><tr><td>&quot;United States&quot;</td><td>334.790297</td></tr></tbody></table></div>"
      ],
      "text/plain": [
       "shape: (6, 2)\n",
       "┌────────────────┬────────────┐\n",
       "│ Pais           ┆ Precio     │\n",
       "│ ---            ┆ ---        │\n",
       "│ str            ┆ f64        │\n",
       "╞════════════════╪════════════╡\n",
       "│ Australia      ┆ 392.638377 │\n",
       "│ Canada         ┆ 234.092973 │\n",
       "│ France         ┆ 333.834728 │\n",
       "│ Germany        ┆ 353.917047 │\n",
       "│ United Kingdom ┆ 347.573597 │\n",
       "│ United States  ┆ 334.790297 │\n",
       "└────────────────┴────────────┘"
      ]
     },
     "execution_count": 18,
     "metadata": {},
     "output_type": "execute_result"
    }
   ],
   "source": [
    "\"\"\"Se desea saber la venta promedio de cada pais\"\"\"\n",
    "df01.group_by(\n",
    "    by=\"Pais\"\n",
    ").agg(\n",
    "    pl.col(\"Precio\").mean()\n",
    ").sort(\n",
    "    by=\"Pais\", descending=False\n",
    ").head(\n",
    "    6\n",
    ")"
   ]
  },
  {
   "cell_type": "code",
   "execution_count": 23,
   "metadata": {},
   "outputs": [
    {
     "name": "stderr",
     "output_type": "stream",
     "text": [
      "C:\\Users\\Usuario\\AppData\\Local\\Temp\\ipykernel_8492\\3179071569.py:2: DeprecationWarning: named `by` param is deprecated; use positional `*args` instead.\n",
      "  df01.group_by(\n"
     ]
    },
    {
     "data": {
      "text/html": [
       "<div><style>\n",
       ".dataframe > thead > tr,\n",
       ".dataframe > tbody > tr {\n",
       "  text-align: right;\n",
       "  white-space: pre-wrap;\n",
       "}\n",
       "</style>\n",
       "<small>shape: (6, 3)</small><table border=\"1\" class=\"dataframe\"><thead><tr><th>Pais</th><th>Tienda</th><th>Ventas</th></tr><tr><td>str</td><td>str</td><td>f64</td></tr></thead><tbody><tr><td>&quot;United States&quot;</td><td>&quot;Walmart&quot;</td><td>5.9977e6</td></tr><tr><td>&quot;United States&quot;</td><td>&quot;Mr Porter&quot;</td><td>7.9802e6</td></tr><tr><td>&quot;United States&quot;</td><td>&quot;Amazon&quot;</td><td>1.6547e6</td></tr><tr><td>&quot;United States&quot;</td><td>&quot;Zappos&quot;</td><td>1.7984e6</td></tr><tr><td>&quot;United States&quot;</td><td>&quot;Ebay&quot;</td><td>2.1349e6</td></tr><tr><td>&quot;United Kingdom…</td><td>&quot;GameStop&quot;</td><td>3.9047e6</td></tr></tbody></table></div>"
      ],
      "text/plain": [
       "shape: (6, 3)\n",
       "┌────────────────┬───────────┬──────────┐\n",
       "│ Pais           ┆ Tienda    ┆ Ventas   │\n",
       "│ ---            ┆ ---       ┆ ---      │\n",
       "│ str            ┆ str       ┆ f64      │\n",
       "╞════════════════╪═══════════╪══════════╡\n",
       "│ United States  ┆ Walmart   ┆ 5.9977e6 │\n",
       "│ United States  ┆ Mr Porter ┆ 7.9802e6 │\n",
       "│ United States  ┆ Amazon    ┆ 1.6547e6 │\n",
       "│ United States  ┆ Zappos    ┆ 1.7984e6 │\n",
       "│ United States  ┆ Ebay      ┆ 2.1349e6 │\n",
       "│ United Kingdom ┆ GameStop  ┆ 3.9047e6 │\n",
       "└────────────────┴───────────┴──────────┘"
      ]
     },
     "execution_count": 23,
     "metadata": {},
     "output_type": "execute_result"
    }
   ],
   "source": [
    "\"\"\"Se desea saber las ventas total de cada pais de cada tienda\"\"\"\n",
    "df01.group_by(\n",
    "    by=[\"Pais\",\"Tienda\"]\n",
    ").agg(\n",
    "    (pl.col(\"Unidades\")*pl.col(\"Precio\")).sum().alias(\"Ventas\")\n",
    ").sort(\n",
    "    by=\"Pais\", descending=True\n",
    ").head(\n",
    "    6\n",
    ")"
   ]
  },
  {
   "cell_type": "code",
   "execution_count": 31,
   "metadata": {},
   "outputs": [
    {
     "data": {
      "text/html": [
       "<div><style>\n",
       ".dataframe > thead > tr,\n",
       ".dataframe > tbody > tr {\n",
       "  text-align: right;\n",
       "  white-space: pre-wrap;\n",
       "}\n",
       "</style>\n",
       "<small>shape: (3, 10)</small><table border=\"1\" class=\"dataframe\"><thead><tr><th>Factura</th><th>ClienteID</th><th>Cliente</th><th>Tienda</th><th>Pais</th><th>Fecha Pedido</th><th>Fecha Entrega</th><th>Producto</th><th>Unidades</th><th>Precio</th></tr><tr><td>str</td><td>i64</td><td>str</td><td>str</td><td>str</td><td>date</td><td>date</td><td>str</td><td>i8</td><td>f32</td></tr></thead><tbody><tr><td>&quot;55275&quot;</td><td>30000</td><td>&quot;James McCoy&quot;</td><td>&quot;ModCloth&quot;</td><td>&quot;Canada&quot;</td><td>2024-01-30</td><td>2024-02-06</td><td>&quot;ML Mountain Fr…</td><td>12</td><td>211.172195</td></tr><tr><td>&quot;59064&quot;</td><td>30050</td><td>&quot;Krishna Sunkam…</td><td>&quot;GameStop&quot;</td><td>&quot;United Kingdom…</td><td>2024-03-30</td><td>2024-04-07</td><td>&quot;ML Mountain Fr…</td><td>13</td><td>211.172195</td></tr><tr><td>&quot;65321&quot;</td><td>29487</td><td>&quot;Humberto Aceve…</td><td>&quot;Amazon&quot;</td><td>&quot;United States&quot;</td><td>2024-06-29</td><td>2024-07-05</td><td>&quot;ML Mountain Fr…</td><td>1</td><td>218.453995</td></tr></tbody></table></div>"
      ],
      "text/plain": [
       "shape: (3, 10)\n",
       "┌─────────┬───────────┬────────────┬──────────┬───┬────────────┬────────────┬──────────┬───────────┐\n",
       "│ Factura ┆ ClienteID ┆ Cliente    ┆ Tienda   ┆ … ┆ Fecha      ┆ Producto   ┆ Unidades ┆ Precio    │\n",
       "│ ---     ┆ ---       ┆ ---        ┆ ---      ┆   ┆ Entrega    ┆ ---        ┆ ---      ┆ ---       │\n",
       "│ str     ┆ i64       ┆ str        ┆ str      ┆   ┆ ---        ┆ str        ┆ i8       ┆ f32       │\n",
       "│         ┆           ┆            ┆          ┆   ┆ date       ┆            ┆          ┆           │\n",
       "╞═════════╪═══════════╪════════════╪══════════╪═══╪════════════╪════════════╪══════════╪═══════════╡\n",
       "│ 55275   ┆ 30000     ┆ James      ┆ ModCloth ┆ … ┆ 2024-02-06 ┆ ML         ┆ 12       ┆ 211.17219 │\n",
       "│         ┆           ┆ McCoy      ┆          ┆   ┆            ┆ Mountain   ┆          ┆ 5         │\n",
       "│         ┆           ┆            ┆          ┆   ┆            ┆ Frame-W -  ┆          ┆           │\n",
       "│         ┆           ┆            ┆          ┆   ┆            ┆ Silver, 40 ┆          ┆           │\n",
       "│ 59064   ┆ 30050     ┆ Krishna    ┆ GameStop ┆ … ┆ 2024-04-07 ┆ ML         ┆ 13       ┆ 211.17219 │\n",
       "│         ┆           ┆ Sunkammura ┆          ┆   ┆            ┆ Mountain   ┆          ┆ 5         │\n",
       "│         ┆           ┆ li         ┆          ┆   ┆            ┆ Frame-W -  ┆          ┆           │\n",
       "│         ┆           ┆            ┆          ┆   ┆            ┆ Silver, 40 ┆          ┆           │\n",
       "│ 65321   ┆ 29487     ┆ Humberto   ┆ Amazon   ┆ … ┆ 2024-07-05 ┆ ML         ┆ 1        ┆ 218.45399 │\n",
       "│         ┆           ┆ Acevedo    ┆          ┆   ┆            ┆ Mountain   ┆          ┆ 5         │\n",
       "│         ┆           ┆            ┆          ┆   ┆            ┆ Frame-W -  ┆          ┆           │\n",
       "│         ┆           ┆            ┆          ┆   ┆            ┆ Silver, 42 ┆          ┆           │\n",
       "└─────────┴───────────┴────────────┴──────────┴───┴────────────┴────────────┴──────────┴───────────┘"
      ]
     },
     "execution_count": 31,
     "metadata": {},
     "output_type": "execute_result"
    }
   ],
   "source": [
    "#Redefiniento mis tipos de datos\n",
    "df01=df01.cast(\n",
    "    {\n",
    "        \"Factura\": pl.Utf8,\n",
    "        \"Fecha Pedido\": pl.Date,\n",
    "        \"Fecha Entrega\": pl.Date,\n",
    "        \"Unidades\": pl.Int8,\n",
    "        \"Precio\": pl.Float32\n",
    "    }\n",
    ")\n",
    "df01.head(3)"
   ]
  },
  {
   "cell_type": "code",
   "execution_count": 39,
   "metadata": {},
   "outputs": [
    {
     "data": {
      "text/html": [
       "<div><style>\n",
       ".dataframe > thead > tr,\n",
       ".dataframe > tbody > tr {\n",
       "  text-align: right;\n",
       "  white-space: pre-wrap;\n",
       "}\n",
       "</style>\n",
       "<small>shape: (6, 2)</small><table border=\"1\" class=\"dataframe\"><thead><tr><th>Nro Mes</th><th>Ventas</th></tr><tr><td>i8</td><td>f32</td></tr></thead><tbody><tr><td>1</td><td>566.964722</td></tr><tr><td>2</td><td>658.960327</td></tr><tr><td>3</td><td>646.200684</td></tr><tr><td>4</td><td>516.97522</td></tr><tr><td>5</td><td>603.906555</td></tr><tr><td>6</td><td>609.283203</td></tr></tbody></table></div>"
      ],
      "text/plain": [
       "shape: (6, 2)\n",
       "┌─────────┬────────────┐\n",
       "│ Nro Mes ┆ Ventas     │\n",
       "│ ---     ┆ ---        │\n",
       "│ i8      ┆ f32        │\n",
       "╞═════════╪════════════╡\n",
       "│ 1       ┆ 566.964722 │\n",
       "│ 2       ┆ 658.960327 │\n",
       "│ 3       ┆ 646.200684 │\n",
       "│ 4       ┆ 516.97522  │\n",
       "│ 5       ┆ 603.906555 │\n",
       "│ 6       ┆ 609.283203 │\n",
       "└─────────┴────────────┘"
      ]
     },
     "execution_count": 39,
     "metadata": {},
     "output_type": "execute_result"
    }
   ],
   "source": [
    "\"\"\"Se desea tener las ventas promedio de cada mes de Fecha Pedido\"\"\"\n",
    "df01.group_by(\n",
    "    pl.col(\"Fecha Pedido\").dt.month().alias(\"Nro Mes\")\n",
    ").agg(\n",
    "    (pl.col(\"Unidades\")*pl.col(\"Precio\")).mean().alias(\"Ventas\")\n",
    ").sort(\n",
    "    by=\"Nro Mes\", descending=False\n",
    ").head(\n",
    "    6\n",
    ")"
   ]
  },
  {
   "cell_type": "code",
   "execution_count": null,
   "metadata": {},
   "outputs": [],
   "source": []
  }
 ],
 "metadata": {
  "kernelspec": {
   "display_name": "vEdicion1",
   "language": "python",
   "name": "python3"
  },
  "language_info": {
   "codemirror_mode": {
    "name": "ipython",
    "version": 3
   },
   "file_extension": ".py",
   "mimetype": "text/x-python",
   "name": "python",
   "nbconvert_exporter": "python",
   "pygments_lexer": "ipython3",
   "version": "3.9.12"
  }
 },
 "nbformat": 4,
 "nbformat_minor": 2
}
